{
 "cells": [
  {
   "cell_type": "code",
   "execution_count": null,
   "id": "6613abd9-9616-4c1d-bceb-b92ff8f83b79",
   "metadata": {},
   "outputs": [],
   "source": [
    "import os\n",
    "import numpy as np\n",
    "import pandas as pd\n",
    "from datetime import datetime"
   ]
  },
  {
   "cell_type": "code",
   "execution_count": null,
   "id": "25e3d356-4584-4776-808e-42f0f138de09",
   "metadata": {},
   "outputs": [],
   "source": [
    "def get_dca_with_mmsi(dca_data_path, mmsi_data_path):\n",
    "    dca_data = pd.read_csv(dca_data_path)\n",
    "    mmsi_data = pd.read_excel(mmsi_data_path)\n",
    "    mmsi_data = mmsi_data[[\"mmsi\", \"kallesignal\"]]\n",
    "\n",
    "    merged = dca_data.merge(mmsi_data, left_on=\"Radiokallesignal (ERS)\", right_on=\"kallesignal\").drop(columns=[\"kallesignal\"])\n",
    "    merged[\"Starttidspunkt\"] = pd.to_datetime(merged[\"Starttidspunkt\"])\n",
    "    merged[\"Stopptidspunkt\"] = pd.to_datetime(merged[\"Stopptidspunkt\"])\n",
    "    return merged[[\"Starttidspunkt\", \"Stopptidspunkt\", \"mmsi\", \"Varighet\"]]"
   ]
  },
  {
   "cell_type": "code",
   "execution_count": null,
   "id": "1bf07881-c3de-4652-918e-9366926c5de4",
   "metadata": {},
   "outputs": [],
   "source": [
    "def get_fish_trips_with_mmsi(fish_trip_data_path, mmsi_data_path):\n",
    "    ft = pd.read_csv(fish_trip_data_path)\n",
    "    mmsi_data = pd.read_excel(mmsi_data_path)\n",
    "    mmsi_data = mmsi_data[[\"mmsi\", \"kallesignal\"]]\n",
    "\n",
    "    merged = ft.merge(mmsi_data, left_on=\"ERS\", right_on=\"kallesignal\").drop(columns=[\"kallesignal\"])\n",
    "    merged[\"Avgangstidspunkt\"] = pd.to_datetime(merged[\"Avgangstidspunkt\"])\n",
    "    merged[\"Ankomsttidspunkt\"] = pd.to_datetime(merged[\"Ankomsttidspunkt\"])\n",
    "    return merged[[\"Avgangstidspunkt\", \"Ankomsttidspunkt\", \"mmsi\", \"trip_id\"]]"
   ]
  },
  {
   "cell_type": "code",
   "execution_count": null,
   "id": "4726d43d-cdb4-476c-80d1-998180f8bc0e",
   "metadata": {},
   "outputs": [],
   "source": [
    "def calculate_in_interval(chunk, other, start_column, stop_column):\n",
    "    dates = chunk[\"date_time_utc\"].values\n",
    "    chunk_mmsi = chunk[\"mmsi\"].values\n",
    "    other_mmsi = other[\"mmsi\"].values\n",
    "    start_times = other[start_column].values\n",
    "    stop_times = other[stop_column].values\n",
    "\n",
    "    # Use broadcasting to create a boolean array where True means the date is in the interval\n",
    "    is_in_start = dates[:, None] >= start_times\n",
    "    is_in_stop = dates[:, None] <= stop_times\n",
    "    same_mmsi = chunk_mmsi[:, None] == other_mmsi\n",
    "    is_in_interval = (is_in_start & is_in_stop) & same_mmsi\n",
    "    return is_in_interval\n",
    "    "
   ]
  },
  {
   "cell_type": "code",
   "execution_count": null,
   "id": "e000ca13-9c31-4993-ad25-460ffd7c5672",
   "metadata": {},
   "outputs": [],
   "source": [
    "def ais_modification(chunk, dca_slice, fishing_trips):\n",
    "    trip_ids = fishing_trips[\"trip_id\"].values\n",
    "    duration = dca_slice[\"Varighet\"].values\n",
    "    \n",
    "    is_in_interval_trip = calculate_in_interval(chunk, fishing_trips, \"Avgangstidspunkt\", \"Ankomsttidspunkt\")\n",
    "    is_in_interval_dca = calculate_in_interval(chunk, dca_slice, \"Starttidspunkt\", \"Stopptidspunkt\")\n",
    "    \n",
    "    # Initialize the duration column with NaN\n",
    "    chunk[\"trip_id\"] = np.nan\n",
    "    chunk[\"duration\"] = np.nan\n",
    "    \n",
    "    # Assign the duration and trip id where the interval is True\n",
    "    for i in range(len(chunk)):\n",
    "        if is_in_interval_dca[i].any():\n",
    "            assert len(duration[is_in_interval_dca[i]])==1, \"Should only be a single duration per interval\"\n",
    "            chunk.loc[i, \"duration\"] = duration[is_in_interval_dca[i]].max()\n",
    "        if is_in_interval_trip[i].any():\n",
    "            assert len(trip_ids[is_in_interval_trip[i]])==1, \"Should only be a single trip per interval\"\n",
    "            chunk.loc[i, \"trip_id\"] = trip_ids[is_in_interval_trip[i]].max()\n",
    "            \n",
    "    chunk['fishing'] = is_in_interval_dca.any(axis=1)\n",
    "    return chunk"
   ]
  },
  {
   "cell_type": "code",
   "execution_count": null,
   "id": "d8e8f1e4-1d24-45e1-833c-d0d2c28ef12a",
   "metadata": {},
   "outputs": [],
   "source": [
    "def process_ais(file_path, dca_data, fishing_trips):\n",
    "    # Read AIS file\n",
    "    column_dtypes = {\"mmsi\": int, \"date_time_utc\": object, \"lon\": float, \"lat\": float, \"sog\": float, \"cog\": float, \"true_heading\": int, \"nav_status\": int, \"message_nr\": int}\n",
    "    ais_data = pd.read_csv(file_path, sep=\";\", dtype=column_dtypes, compression=\"zip\")\n",
    "    ais_data[\"date_time_utc\"] = pd.to_datetime(ais_data[\"date_time_utc\"])\n",
    "\n",
    "    # Get date from AIS filename and, filter DCA data and fishing trips\n",
    "    ais_date = os.path.basename(file_path)[4:-4]\n",
    "    dca_slice = dca_data.where(dca_data[\"Starttidspunkt\"].dt.date == datetime.strptime(ais_date, \"%Y%m%d\").date()).dropna()\n",
    "    fish_trip_slice = fishing_trips.where(fishing_trips[\"Avgangstidspunkt\"].dt.date == datetime.strptime(ais_date, \"%Y%m%d\").date()).dropna()\n",
    "\n",
    "    print(f\"{ais_date}, Size of AIS: {len(ais_data)}, Size of DCA: {len(dca_slice)}\")\n",
    "    result = ais_modification(ais_data, dca_slice, fish_trip_slice)\n",
    "    return result\n",
    "    "
   ]
  },
  {
   "cell_type": "code",
   "execution_count": null,
   "id": "ccf85b3b-04be-4e67-9780-bdfc91c3b637",
   "metadata": {},
   "outputs": [],
   "source": [
    "def mark_ais_fishing(ais_data_path, dca_date_slice, fishing_trips, save_destination):\n",
    "    \"\"\"\n",
    "    Reads all ais data for a year\n",
    "    \"\"\"\n",
    "    ais_list = os.listdir(ais_data_path)\n",
    "    for i, ais_day in enumerate(ais_list[:1]):\n",
    "        print(i, end=\" \")\n",
    "        ais_df = process_ais(os.path.join(ais_data_path, ais_day), dca_date_slice, fishing_trips)\n",
    "        filename = f\"{ais_day[:-4]}\"\n",
    "        ais_df.to_parquet(f\"{save_destination}/{filename}.parquet\")"
   ]
  },
  {
   "cell_type": "code",
   "execution_count": null,
   "id": "4e18aa09-599d-489e-b966-8eca6e48f7ec",
   "metadata": {},
   "outputs": [],
   "source": [
    "fishing_trips = get_fish_trips_with_mmsi(\"processed/fishing_trips_temp.csv\", \"data/MMSI_rc_20211027_.xlsx\")"
   ]
  },
  {
   "cell_type": "code",
   "execution_count": null,
   "id": "c3bd0112-0e24-434c-998c-8cba36b73a56",
   "metadata": {},
   "outputs": [],
   "source": [
    "dca_slice = get_dca_with_mmsi(\"processed/dca/combined.csv\", \"data/MMSI_rc_20211027_.xlsx\")"
   ]
  },
  {
   "cell_type": "code",
   "execution_count": null,
   "id": "ac11c6d5-5bb2-4fe6-9da2-7ad473c34e15",
   "metadata": {},
   "outputs": [],
   "source": [
    "mark_ais_fishing(\"data/ais_data/AIS_data_2016/\", dca_slice, fishing_trips, \"ais_processed/ais2016\")"
   ]
  },
  {
   "cell_type": "code",
   "execution_count": null,
   "id": "f7227941-fda6-4b99-a679-76c206efa8fd",
   "metadata": {},
   "outputs": [],
   "source": [
    "test_frame = pd.read_parquet(\"processed/ais/AIS_data_2016/ais_20161116.parquet\")\n",
    "# test_frame\n",
    "# f_slice = test_frame.where(test_frame[\"fishing\"] == True & (test_frame[\"mmsi\"]==257247000)).dropna()\n",
    "f_slice = test_frame.where((test_frame[\"fishing\"] == True) & (test_frame[\"trip_id\"] > 0)).dropna()\n",
    "f_slice\n",
    "# for _, row in f_slice.iterrows():\n",
    "#     print(row[\"date_time_utc\"], row[\"duration\"])"
   ]
  }
 ],
 "metadata": {
  "kernelspec": {
   "display_name": "Python 3 (ipykernel)",
   "language": "python",
   "name": "python3"
  },
  "language_info": {
   "codemirror_mode": {
    "name": "ipython",
    "version": 3
   },
   "file_extension": ".py",
   "mimetype": "text/x-python",
   "name": "python",
   "nbconvert_exporter": "python",
   "pygments_lexer": "ipython3",
   "version": "3.10.12"
  }
 },
 "nbformat": 4,
 "nbformat_minor": 5
}
