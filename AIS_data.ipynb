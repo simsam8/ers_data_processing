{
 "cells": [
  {
   "cell_type": "code",
   "execution_count": null,
   "id": "6613abd9-9616-4c1d-bceb-b92ff8f83b79",
   "metadata": {},
   "outputs": [],
   "source": [
    "import os\n",
    "import pandas as pd\n",
    "from datetime import datetime"
   ]
  },
  {
   "cell_type": "code",
   "execution_count": null,
   "id": "449c2290-ea2b-4f22-ad1d-09548998bbee",
   "metadata": {},
   "outputs": [],
   "source": [
    "dca_data = pd.read_csv(\"processed/combined.csv\")\n",
    "dca_data"
   ]
  },
  {
   "cell_type": "code",
   "execution_count": null,
   "id": "964b8547-6709-44c5-a752-3dfa227d89f1",
   "metadata": {},
   "outputs": [],
   "source": [
    "mmsi_data = pd.read_excel(\"data/MMSI_rc_20211027_.xlsx\")\n",
    "mmsi_link = mmsi_data[[\"mmsi\", \"kallesignal\"]]\n",
    "mmsi_link"
   ]
  },
  {
   "cell_type": "code",
   "execution_count": null,
   "id": "d9f65bbc-5549-4aca-b221-730c96e2c0c7",
   "metadata": {},
   "outputs": [],
   "source": [
    "\n",
    "dca_mmsi = dca_data.merge(mmsi_link, left_on=\"Radiokallesignal (ERS)\", right_on=\"kallesignal\").drop(columns=[\"kallesignal\"])\n",
    "dca_mmsi[\"Starttidspunkt\"] = pd.to_datetime(dca_mmsi[\"Starttidspunkt\"])\n",
    "dca_mmsi[\"Stopptidspunkt\"] = pd.to_datetime(dca_mmsi[\"Stopptidspunkt\"])\n",
    "dca_date_slice = dca_mmsi[[\"Starttidspunkt\", \"Stopptidspunkt\", \"mmsi\"]]\n",
    "# dca_date_slice = dca_date_slice.where(dca_date_slice[\"Starttidspunkt\"].dt.year == 2015).dropna()\n",
    "# TODO: Date should be read fro ais file name\n",
    "# dca_date_slice = dca_date_slice.where(dca_date_slice[\"Starttidspunkt\"].dt.date == datetime.strptime('20150101', \"%Y%m%d\").date()).dropna()\n",
    "# dca_date_slice\n"
   ]
  },
  {
   "cell_type": "code",
   "execution_count": null,
   "id": "25e3d356-4584-4776-808e-42f0f138de09",
   "metadata": {},
   "outputs": [],
   "source": [
    "def get_dca_with_mmsi(dca_data_path, mmsi_data_path):\n",
    "    dca_data = pd.read_csv(dca_data_path)\n",
    "    mmsi_data = pd.read_excel(mmsi_data_path)\n",
    "    mmsi_data = mmsi_data[[\"mmsi\", \"kallesignal\"]]\n",
    "\n",
    "    merged = dca_data.merge(mmsi_data, left_on=\"Radiokallesignal (ERS)\", right_on=\"kallesignal\").drop(columns=[\"kallesignal\"])\n",
    "    merged[\"Starttidspunkt\"] = pd.to_datetime(merged[\"Starttidspunkt\"])\n",
    "    merged[\"Stopptidspunkt\"] = pd.to_datetime(merged[\"Stopptidspunkt\"])\n",
    "    return merged[[\"Starttidspunkt\", \"Stopptidspunkt\", \"mmsi\"]]"
   ]
  },
  {
   "cell_type": "code",
   "execution_count": null,
   "id": "36d0f2f8-23e4-467f-b3b1-3a4f6096038b",
   "metadata": {},
   "outputs": [],
   "source": [
    "# Function to process each chunk and determine if the dates fall within any intervals\n",
    "def process_chunk(chunk, start_times, stop_times, dca_mmsi):\n",
    "    ais_dates = chunk['date_time_utc'].values\n",
    "    chunk_mmsi = chunk[\"mmsi\"].values\n",
    "\n",
    "    # Use broadcasting to create a boolean array where True means the date is in the interval\n",
    "    is_in_start = ais_dates[:, None] >= start_times\n",
    "    is_in_stop = ais_dates[:, None] <= stop_times\n",
    "    same_mmsi = chunk_mmsi[:, None] == dca_mmsi\n",
    "    is_in_interval = (is_in_start & is_in_stop) & same_mmsi\n",
    "\n",
    "    # Any interval containing the ais_date will have True in the row\n",
    "    chunk['fishing'] = is_in_interval.any(axis=1)\n",
    "    return chunk"
   ]
  },
  {
   "cell_type": "code",
   "execution_count": null,
   "id": "d8e8f1e4-1d24-45e1-833c-d0d2c28ef12a",
   "metadata": {},
   "outputs": [],
   "source": [
    "def process_ais(file_path, dca_data):\n",
    "    # Read AIS file\n",
    "    column_dtypes = {\"mmsi\": int, \"date_time_utc\": object, \"lon\": float, \"lat\": float, \"sog\": float, \"cog\": float, \"true_heading\": int, \"nav_status\": int, \"message_nr\": int}\n",
    "    ais_data = pd.read_csv(file_path, sep=\";\", dtype=column_dtypes, compression=\"zip\")\n",
    "    ais_data[\"date_time_utc\"] = pd.to_datetime(ais_data[\"date_time_utc\"])\n",
    "\n",
    "    # Get date from AIS filename and filter DCA data\n",
    "    ais_date = os.path.basename(file_path)[4:-4]\n",
    "    dca_slice = dca_data.where(dca_data[\"Starttidspunkt\"].dt.date == datetime.strptime(ais_date, \"%Y%m%d\").date()).dropna()\n",
    "    \n",
    "    # Convert interval times to numpy arrays\n",
    "    start_times = dca_slice['Starttidspunkt'].values\n",
    "    stop_times = dca_slice['Stopptidspunkt'].values\n",
    "    dca_mmsis = dca_slice[\"mmsi\"].values\n",
    "\n",
    "    print(f\"{ais_date}, Size of AIS: {len(ais_data)}, Size of DCA: {len(dca_slice)}\")\n",
    "    result = process_chunk(ais_data, start_times, stop_times, dca_mmsis)\n",
    "    return result\n",
    "    "
   ]
  },
  {
   "cell_type": "code",
   "execution_count": null,
   "id": "ccf85b3b-04be-4e67-9780-bdfc91c3b637",
   "metadata": {},
   "outputs": [],
   "source": [
    "def mark_ais_fishing(ais_data_path, dca_date_slice, save_destination):\n",
    "    \"\"\"\n",
    "    Reads all ais data for a year\n",
    "    \"\"\"\n",
    "    # ais_data_path = \"data/ais_data/ais2016/\"\n",
    "    ais_list = os.listdir(ais_data_path)\n",
    "    for i, ais_day in enumerate(ais_list[:5]):\n",
    "        print(i, end=\" \")\n",
    "        ais_df = process_ais(os.path.join(ais_data_path, ais_day), dca_date_slice)\n",
    "        filename = f\"{ais_day[:-4]}\"\n",
    "        ais_df.to_parquet(f\"{save_destination}/{filename}.parquet\")"
   ]
  },
  {
   "cell_type": "code",
   "execution_count": null,
   "id": "c3bd0112-0e24-434c-998c-8cba36b73a56",
   "metadata": {},
   "outputs": [],
   "source": [
    "dca_slice = get_dca_with_mmsi(\"processed/combined.csv\", \"data/MMSI_rc_20211027_.xlsx\")"
   ]
  },
  {
   "cell_type": "code",
   "execution_count": null,
   "id": "ac11c6d5-5bb2-4fe6-9da2-7ad473c34e15",
   "metadata": {},
   "outputs": [],
   "source": [
    "mark_ais_fishing(\"data/ais_data/ais2016/\", dca_slice, \"ais_processed/\")"
   ]
  },
  {
   "cell_type": "code",
   "execution_count": null,
   "id": "f7227941-fda6-4b99-a679-76c206efa8fd",
   "metadata": {},
   "outputs": [],
   "source": [
    "test_frame = pd.read_parquet(\"ais_processed/ais_20160515.parquet\")\n",
    "test_frame"
   ]
  }
 ],
 "metadata": {
  "kernelspec": {
   "display_name": "Python 3 (ipykernel)",
   "language": "python",
   "name": "python3"
  },
  "language_info": {
   "codemirror_mode": {
    "name": "ipython",
    "version": 3
   },
   "file_extension": ".py",
   "mimetype": "text/x-python",
   "name": "python",
   "nbconvert_exporter": "python",
   "pygments_lexer": "ipython3",
   "version": "3.10.12"
  }
 },
 "nbformat": 4,
 "nbformat_minor": 5
}
