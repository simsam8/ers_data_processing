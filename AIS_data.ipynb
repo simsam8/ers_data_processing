{
 "cells": [
  {
   "cell_type": "code",
   "execution_count": null,
   "id": "6613abd9-9616-4c1d-bceb-b92ff8f83b79",
   "metadata": {},
   "outputs": [],
   "source": [
    "import os\n",
    "import pandas as pd"
   ]
  },
  {
   "cell_type": "code",
   "execution_count": null,
   "id": "449c2290-ea2b-4f22-ad1d-09548998bbee",
   "metadata": {},
   "outputs": [],
   "source": [
    "dca_data = pd.read_csv(\"processed/combined.csv\")\n",
    "dca_data"
   ]
  },
  {
   "cell_type": "code",
   "execution_count": null,
   "id": "964b8547-6709-44c5-a752-3dfa227d89f1",
   "metadata": {},
   "outputs": [],
   "source": [
    "mmsi_data = pd.read_excel(\"data/MMSI_rc_20211027_.xlsx\")\n",
    "mmsi_link = mmsi_data[[\"mmsi\", \"kallesignal\"]]\n",
    "mmsi_link\n",
    "\n"
   ]
  },
  {
   "cell_type": "code",
   "execution_count": null,
   "id": "d9f65bbc-5549-4aca-b221-730c96e2c0c7",
   "metadata": {},
   "outputs": [],
   "source": [
    "\n",
    "dca_mmsi = dca_data.merge(mmsi_link, left_on=\"Radiokallesignal (ERS)\", right_on=\"kallesignal\").drop(columns=[\"kallesignal\"])\n",
    "dca_mmsi[\"Starttidspunkt\"] = pd.to_datetime(dca_mmsi[\"Starttidspunkt\"])\n",
    "dca_mmsi[\"Stopptidspunkt\"] = pd.to_datetime(dca_mmsi[\"Stopptidspunkt\"])\n",
    "dca_date_slice = dca_mmsi[[\"Starttidspunkt\", \"Stopptidspunkt\", \"mmsi\"]]\n"
   ]
  },
  {
   "cell_type": "code",
   "execution_count": null,
   "id": "9c699bfc-1f6c-4f71-bd1a-6081c0ed66d6",
   "metadata": {},
   "outputs": [],
   "source": [
    "column_dtypes = {\"mmsi\": int, \"date_time_utc\": object, \"lon\": float, \"lat\": float, \"sog\": float, \"cog\": float, \"true_heading\": int, \"nav_status\": int, \"message_nr\": int}\n",
    "ais_test = pd.read_csv(\"data/ais_data/ais2015/ais_20150101.csv\", sep=\";\", dtype=column_dtypes)\n",
    "# ais_test = pd.read_csv(\"data/ais_data/ais2015/ais_20150101.csv\", sep=\";\")\n",
    "ais_test[\"date_time_utc\"] = pd.to_datetime(ais_test[\"date_time_utc\"])\n",
    "ais_test"
   ]
  },
  {
   "cell_type": "code",
   "execution_count": null,
   "id": "d5e5881b-fbcd-4964-a47f-a8da04176264",
   "metadata": {},
   "outputs": [],
   "source": [
    "def in_interval(ais_date, **kwargs):\n",
    "    # is_in = dca_date_slice.apply(lambda x: ais_date >= x[\"Starttidspunkt\"] and ais_date <= x[\"Stopptidspunkt\"], axis=1)\n",
    "    stop = ((dca_date_slice[\"Stopptidspunkt\"] >= ais_date))# and (dca_date_slice[\"Stopptidspunkt\"] >= ais_date))\n",
    "    # print(stop)\n",
    "    start = ((dca_date_slice[\"Starttidspunkt\"] <= ais_date))# and (dca_date_slice[\"Stopptidspunkt\"] >= ais_date))\n",
    "    # print(start)\n",
    "    is_in = start & stop\n",
    "    \n",
    "    return is_in.any()\n",
    "# test = in_interval(pd.to_datetime(\"2012-01-01 23:33:52\"))"
   ]
  },
  {
   "cell_type": "code",
   "execution_count": null,
   "id": "36d0f2f8-23e4-467f-b3b1-3a4f6096038b",
   "metadata": {},
   "outputs": [],
   "source": [
    "# Function to process each chunk and determine if the dates fall within any intervals\n",
    "def process_chunk(chunk, start_times, stop_times):\n",
    "    ais_dates = chunk['date_time_utc'].values\n",
    "\n",
    "    # Use broadcasting to create a boolean array where True means the date is in the interval\n",
    "    is_in_start = ais_dates[:, None] >= start_times\n",
    "    is_in_stop = ais_dates[:, None] <= stop_times\n",
    "    is_in_interval = is_in_start & is_in_stop\n",
    "\n",
    "    # Any interval containing the ais_date will have True in the row\n",
    "    chunk['fishing'] = is_in_interval.any(axis=1)\n",
    "    return chunk\n",
    "\n",
    "# Convert interval times to numpy arrays\n",
    "start_times = dca_date_slice['Starttidspunkt'].values\n",
    "stop_times = dca_date_slice['Stopptidspunkt'].values\n",
    "\n",
    "# Define the chunk size\n",
    "chunk_size = 10000  # Adjust based on memory constraints\n",
    "\n",
    "# Process ais_test in chunks\n",
    "chunks = []\n",
    "for start in range(0, len(ais_test), chunk_size):\n",
    "    print(f\"{start}/{len(ais_test)}\")\n",
    "    end = start + chunk_size\n",
    "    chunk = ais_test.iloc[start:end].copy()\n",
    "    processed_chunk = process_chunk(chunk, start_times, stop_times)\n",
    "    chunks.append(processed_chunk)\n",
    "\n",
    "# Concatenate all chunks back together\n",
    "result = pd.concat(chunks, ignore_index=True)\n",
    "\n",
    "print(result)\n"
   ]
  },
  {
   "cell_type": "code",
   "execution_count": null,
   "id": "ee87b385-793f-475a-87b1-4ebebf2116dc",
   "metadata": {},
   "outputs": [],
   "source": [
    "result[\"fishing\"].describe()"
   ]
  },
  {
   "cell_type": "code",
   "execution_count": null,
   "id": "9cd7a55e-aded-4ac4-99c3-23ff94dd3f1e",
   "metadata": {},
   "outputs": [],
   "source": [
    "ais_test[\"fishing\"] = ais_test[\"date_time_utc\"].apply(in_interval, axis=1)"
   ]
  },
  {
   "cell_type": "code",
   "execution_count": null,
   "id": "c2f774a7-9671-4aa3-ba01-c2de32ded397",
   "metadata": {},
   "outputs": [],
   "source": [
    "def read_ais(ais_folder):\n",
    "\n",
    "    ais_days = []\n",
    "    \n",
    "    for day in os.listdir(ais_folder):\n",
    "        if day.endswith(\".csv\"):\n",
    "            ais = pd.read_csv(os.path.join(ais_folder, day), sep=\";\", dtype=column_dtypes)\n",
    "            ais_days.append(ais)\n",
    "\n",
    "    ais_df = pd.concat(ais_days)\n",
    "    return ais_df\n",
    "                          \n",
    "\n",
    "# ais_df = read_ais(\"data/ais_data/ais2015/\")\n",
    "    "
   ]
  }
 ],
 "metadata": {
  "kernelspec": {
   "display_name": "Python 3 (ipykernel)",
   "language": "python",
   "name": "python3"
  },
  "language_info": {
   "codemirror_mode": {
    "name": "ipython",
    "version": 3
   },
   "file_extension": ".py",
   "mimetype": "text/x-python",
   "name": "python",
   "nbconvert_exporter": "python",
   "pygments_lexer": "ipython3",
   "version": "3.10.12"
  }
 },
 "nbformat": 4,
 "nbformat_minor": 5
}
