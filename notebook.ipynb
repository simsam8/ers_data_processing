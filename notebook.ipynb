{
 "cells": [
  {
   "cell_type": "code",
   "execution_count": null,
   "id": "3985698e-b276-4960-9727-592ed9cc30b4",
   "metadata": {},
   "outputs": [],
   "source": [
    "import pandas as pd\n",
    "import numpy as np\n",
    "\n",
    "dca_data = pd.read_csv(\"data/elektronisk-rapportering-ers-2018-fangstmelding-dca.csv\", sep=\";\", decimal=\",\")"
   ]
  },
  {
   "cell_type": "code",
   "execution_count": null,
   "id": "ea5ec098-8919-4053-bdeb-afa2d3b78677",
   "metadata": {},
   "outputs": [],
   "source": [
    "# Keep given columns\n",
    "id_columns = [\"Melding ID\", \"Starttidspunkt\", \"Stopptidspunkt\"]\n",
    "# keep_columns = [\"Melding ID\", \"Meldingstidspunkt\", \"Meldingsnummer\", \"Meldingsversjon\", \"Redskapsspesifikasjon\", \"Starttidspunkt\", \"Stopptidspunkt\", \"Radiokallesignal (ERS)\", \"Varighet\",\n",
    "keep_columns = [\"Melding ID\", \"Meldingstidspunkt\", \"Starttidspunkt\", \"Stopptidspunkt\", \"Radiokallesignal (ERS)\", \"Varighet\",\n",
    "                \"Startposisjon bredde\", \"Startposisjon lengde\", \"Havdybde start\", \"Stopposisjon bredde\",\n",
    "                \"Stopposisjon lengde\", \"Havdybde stopp\", \"Trekkavstand\", \"Redskap FAO (kode)\", \"Hovedart FAO\",\n",
    "                \"Art FAO\", \"Rundvekt\", \"Bruttotonnasje 1969\", \"Bruttotonnasje annen\",\n",
    "                \"Bredde\", \"Fartøylengde\", \"Hovedområde start (kode)\", \"Hovedområde stopp (kode)\"]\n",
    "\n",
    "reduced_data = dca_data[keep_columns]"
   ]
  },
  {
   "cell_type": "code",
   "execution_count": null,
   "id": "c7a17e63-0b0f-40a9-8b89-e7b2681f7278",
   "metadata": {},
   "outputs": [],
   "source": [
    "# Keep only OTB (bottom trawl) and drop rows with no species information\n",
    "reduced_data = reduced_data.where(reduced_data[\"Redskap FAO (kode)\"] == \"OTB\")\n",
    "reduced_data = reduced_data.dropna(subset=[\"Art FAO\"])"
   ]
  },
  {
   "cell_type": "code",
   "execution_count": null,
   "id": "8279b514-c65e-4016-b257-20b6a570347a",
   "metadata": {},
   "outputs": [],
   "source": [
    "reduced_data"
   ]
  },
  {
   "cell_type": "code",
   "execution_count": null,
   "id": "05dfa99b-ad98-4cc5-aa38-063ea42132ee",
   "metadata": {},
   "outputs": [],
   "source": [
    "# Sum the round weights for message id, start time, and stop time\n",
    "catch_sums = reduced_data.groupby(['Melding ID','Starttidspunkt','Stopptidspunkt'])['Rundvekt'].sum()\n",
    "catch_sums"
   ]
  },
  {
   "cell_type": "code",
   "execution_count": null,
   "id": "e372ad01-bf98-407d-99f4-e6fc5325daaa",
   "metadata": {},
   "outputs": [],
   "source": [
    "# Check for duplicates\n",
    "reduced_data.duplicated([\"Melding ID\", \"Starttidspunkt\", \"Stopptidspunkt\", \"Art FAO\"]).sum()"
   ]
  },
  {
   "cell_type": "code",
   "execution_count": null,
   "id": "90943d8c-9f08-4695-9cc9-e005ab7eb9ec",
   "metadata": {},
   "outputs": [],
   "source": [
    "# Create columns of round weight for each of 14 fish species + column for rest\n",
    "top_species = ['Torsk', 'Sei', 'Hyse', 'Uer (vanlig)', 'Dypvannsreke', 'Lange', 'Snabeluer', 'Blåkveite', 'Flekksteinbit', 'Lysing', 'Gråsteinbit', 'Breiflabb', 'Kveite', 'Lyr']\n",
    "reduced_data = reduced_data.loc[reduced_data[\"Art FAO\"].isin(top_species)]\n",
    "reduced_data_pivot = reduced_data.pivot(index=[\"Melding ID\", \"Starttidspunkt\", \"Stopptidspunkt\"], columns=\"Art FAO\", values=\"Rundvekt\").reset_index()\n",
    "reduced_data_weight = reduced_data_pivot.merge(catch_sums, on=[\"Melding ID\", \"Starttidspunkt\", \"Stopptidspunkt\"])\n",
    "\n",
    "reduced_data_weight[\"ANDRE\"] = reduced_data_weight.apply(lambda row: row[\"Rundvekt\"] - row[top_species].sum(), axis=1)\n",
    "reduced_data_weight[top_species] = reduced_data_weight[top_species].replace(np.nan, 0)\n",
    "reduced_data_weight.head()"
   ]
  },
  {
   "cell_type": "code",
   "execution_count": null,
   "id": "2ce85076-4630-4206-9f6a-58f1562674f8",
   "metadata": {},
   "outputs": [],
   "source": [
    "reduced_data = reduced_data.drop(columns=[\"Art FAO\", \"Rundvekt\"]).drop_duplicates()"
   ]
  },
  {
   "cell_type": "code",
   "execution_count": null,
   "id": "92d5ec2b-dac2-4d10-bdee-5cbf505e19b9",
   "metadata": {},
   "outputs": [],
   "source": [
    "# Merge datasets and combine tonnage columns\n",
    "complete_data = reduced_data.merge(reduced_data_weight, on=[\"Melding ID\", \"Starttidspunkt\", \"Stopptidspunkt\"])\n",
    "complete_data[[\"Bruttotonnasje 1969\", \"Bruttotonnasje annen\"]] = complete_data[[\"Bruttotonnasje 1969\", \"Bruttotonnasje annen\"]].replace(np.nan, 0)\n",
    "complete_data[\"Bruttotonnasje\"] = complete_data.apply(lambda row: row[\"Bruttotonnasje 1969\"] + row[\"Bruttotonnasje annen\"], axis=1)\n",
    "complete_data.drop(columns=[\"Bruttotonnasje 1969\", \"Bruttotonnasje annen\"], inplace=True)"
   ]
  },
  {
   "cell_type": "code",
   "execution_count": null,
   "id": "f01074c9-b617-4741-abe7-3a2061911f1f",
   "metadata": {},
   "outputs": [],
   "source": [
    "complete_data = complete_data.sort_values([\"Meldingstidspunkt\", \"Starttidspunkt\"], ignore_index=True)"
   ]
  },
  {
   "cell_type": "markdown",
   "id": "cd064c1e-66af-47e0-9d77-d30a2a0e93b4",
   "metadata": {},
   "source": [
    "# Check for time overlap"
   ]
  },
  {
   "cell_type": "code",
   "execution_count": null,
   "id": "02f222a4-0767-4753-80e4-808230dbfbe6",
   "metadata": {},
   "outputs": [],
   "source": [
    "message_ids = complete_data[\"Melding ID\"].unique()\n",
    "call_signs = complete_data[\"Radiokallesignal (ERS)\"].unique()\n",
    "print(call_signs)\n",
    "complete_data[\"Starttidspunkt\"] = pd.to_datetime(complete_data[\"Starttidspunkt\"], format=\"mixed\")\n",
    "complete_data[\"Stopptidspunkt\"] = pd.to_datetime(complete_data[\"Stopptidspunkt\"], format=\"mixed\")\n",
    "\n",
    "# Drop time overlapping messages for each vessel\n",
    "all_messages = []\n",
    "for c_sign in call_signs:\n",
    "    messages = complete_data.where(complete_data[\"Radiokallesignal (ERS)\"]==c_sign).dropna(how=\"all\")\n",
    "    i = 0\n",
    "    len_df = len(messages)\n",
    "    while i < len_df-1:\n",
    "        # if (messages.iloc[i+1][\"Melding ID\"] == messages.iloc[i][\"Melding ID\"] and\n",
    "        # Message ID can be same or different\n",
    "        if (messages.iloc[i+1][\"Starttidspunkt\"] < messages.iloc[i][\"Stopptidspunkt\"] and\n",
    "            messages.iloc[i+1][\"Starttidspunkt\"] >= messages.iloc[i][\"Starttidspunkt\"]):\n",
    "            # print(f\"Overlap between: {messages.index[i]} and {messages.index[i+1]}\")\n",
    "            messages = messages.drop(messages.index[i+1], inplace=False)\n",
    "            len_df -= 1\n",
    "        i += 1\n",
    "    all_messages.append(messages)\n",
    "\n",
    "complete_data_no_dupes = pd.concat(all_messages)"
   ]
  },
  {
   "cell_type": "code",
   "execution_count": null,
   "id": "d698220c-c4d7-486d-be7f-79004295c73e",
   "metadata": {},
   "outputs": [],
   "source": [
    "print(len(complete_data), len(complete_data_no_dupes))"
   ]
  },
  {
   "cell_type": "code",
   "execution_count": null,
   "id": "8a13d45b-d0c9-4be3-b3d3-3ffcf4306aea",
   "metadata": {},
   "outputs": [],
   "source": [
    "complete_data_no_dupes[\"Trekkavstand\"] = complete_data_no_dupes[\"Trekkavstand\"].replace(np.nan, 0)\n",
    "\n",
    "# Drop rows where area is nan\n",
    "print(complete_data_no_dupes.isna().any(axis=1).sum())\n",
    "complete_data_no_dupes = complete_data_no_dupes.dropna()\n",
    "print(complete_data_no_dupes.isna().any(axis=1).sum())"
   ]
  },
  {
   "cell_type": "code",
   "execution_count": null,
   "id": "93e0c752-8272-45fa-b0bb-7c6594982ebb",
   "metadata": {},
   "outputs": [],
   "source": [
    "# complete_data_no_dupes.to_csv(\"final.csv\", index=False)"
   ]
  },
  {
   "cell_type": "markdown",
   "id": "54b8d42d-03a0-41de-ae5a-70bb72827fbe",
   "metadata": {},
   "source": [
    "# Formatting"
   ]
  },
  {
   "cell_type": "code",
   "execution_count": null,
   "id": "8396edb3-ce6d-45ea-a234-252ff2702e24",
   "metadata": {},
   "outputs": [],
   "source": [
    "df = complete_data_no_dupes\n",
    "df = df.sort_values(\"Starttidspunkt\")\n",
    "df[\"Meldingstidspunkt\"] = pd.to_datetime(df[\"Meldingstidspunkt\"], format=\"mixed\")\n",
    "df"
   ]
  },
  {
   "cell_type": "markdown",
   "id": "4b9492bd-648c-4bc6-8886-a97881f4c1b5",
   "metadata": {},
   "source": [
    "# Combining data"
   ]
  },
  {
   "cell_type": "code",
   "execution_count": 1,
   "id": "a8c949f0-1e83-49dc-940d-71fccbe475ea",
   "metadata": {},
   "outputs": [],
   "source": [
    "from main import process_ers_data\n",
    "import pandas as pd\n",
    "import os"
   ]
  },
  {
   "cell_type": "code",
   "execution_count": 2,
   "id": "3f92a88a-fec3-4ca6-90cb-4a59f85f9f3e",
   "metadata": {},
   "outputs": [
    {
     "name": "stderr",
     "output_type": "stream",
     "text": [
      "/tmp/ipykernel_9452/2333851017.py:7: DtypeWarning: Columns (51,83,90) have mixed types. Specify dtype option on import or set low_memory=False.\n",
      "  df = pd.read_csv(os.path.join(\"data\", dca_file), sep=\";\", decimal=\",\")\n",
      "/tmp/ipykernel_9452/2333851017.py:7: DtypeWarning: Columns (51,77,78,83,90) have mixed types. Specify dtype option on import or set low_memory=False.\n",
      "  df = pd.read_csv(os.path.join(\"data\", dca_file), sep=\";\", decimal=\",\")\n"
     ]
    }
   ],
   "source": [
    "# process_before = []\n",
    "process_after = []\n",
    "file_list = [\"elektronisk-rapportering-ers-2018-fangstmelding-dca.csv\", \"elektronisk-rapportering-ers-2019-fangstmelding-dca.csv\"]\n",
    "# for dca_file in os.listdir(\"data\"):\n",
    "for dca_file in file_list:\n",
    "    if dca_file.endswith(\".csv\"):\n",
    "        df = pd.read_csv(os.path.join(\"data\", dca_file), sep=\";\", decimal=\",\")\n",
    "        process_after.append(df)\n",
    "        # df_proc = process_ers_data(df)\n",
    "        # process_before.append(df_proc)\n",
    "                \n",
    "# print(os.listdir(\"data\"), )"
   ]
  },
  {
   "cell_type": "code",
   "execution_count": 3,
   "id": "7f987c32-80ff-44b4-808c-86e9f9f3de42",
   "metadata": {},
   "outputs": [],
   "source": [
    "pr_aft = pd.concat(process_after)\n",
    "pr_aft.sort_values(\"Starttidspunkt\")\n",
    "pr_aft = process_ers_data(pr_aft)"
   ]
  },
  {
   "cell_type": "code",
   "execution_count": 4,
   "id": "dc956307-db2d-459a-84e2-9d1067808cde",
   "metadata": {},
   "outputs": [],
   "source": [
    "# Group by month, either by message time or start time\n",
    "# group_by_month = df.groupby(pd.Grouper(key=\"Starttidspunkt\", freq=\"ME\"))\n",
    "group_by_month = pr_aft.groupby(pd.Grouper(key=\"Meldingstidspunkt\", freq=\"ME\"))\n",
    "\n",
    "df_by_month = [month for _, month in group_by_month]\n",
    "for month in df_by_month:\n",
    "    month.index = pd.DatetimeIndex(month[\"Meldingstidspunkt\"])\n",
    "\n",
    "month_map = {\n",
    "    1: \"January\",\n",
    "    2: \"February\",\n",
    "    3: \"March\",\n",
    "    4: \"April\",\n",
    "    5: \"May\",\n",
    "    6: \"June\",\n",
    "    7: \"July\",\n",
    "    8: \"August\",\n",
    "    9: \"September\",\n",
    "    10: \"October\",\n",
    "    11: \"November\",\n",
    "    12: \"December\",\n",
    "}\n",
    "\n",
    "for month_n in df_by_month:\n",
    "    year = month_n.index.year[0]\n",
    "    month = month_n.index.month[0]\n",
    "    # print(f\"Year: {year}, Month: {month}\")\n",
    "    month_n.to_csv(f\"processed/{year}_{month_map[month]}.csv\")"
   ]
  }
 ],
 "metadata": {
  "kernelspec": {
   "display_name": "Python 3 (ipykernel)",
   "language": "python",
   "name": "python3"
  },
  "language_info": {
   "codemirror_mode": {
    "name": "ipython",
    "version": 3
   },
   "file_extension": ".py",
   "mimetype": "text/x-python",
   "name": "python",
   "nbconvert_exporter": "python",
   "pygments_lexer": "ipython3",
   "version": "3.10.12"
  }
 },
 "nbformat": 4,
 "nbformat_minor": 5
}
