{
 "cells": [
  {
   "cell_type": "code",
   "execution_count": null,
   "id": "cf85a4c7-ca3a-49de-994d-60caecc82640",
   "metadata": {},
   "outputs": [],
   "source": [
    "from zipfile import ZipFile\n",
    "import os\n",
    "import pandas as pd\n",
    "import numpy as np\n",
    "pd.options.display.max_columns = 100\n",
    "pd.options.display.max_rows = 100"
   ]
  },
  {
   "cell_type": "code",
   "execution_count": null,
   "id": "ff9a9696-93d3-4a7b-862f-f80bc20b2ab5",
   "metadata": {},
   "outputs": [],
   "source": [
    "def read_and_combine(data_folder):\n",
    "    dframes = []\n",
    "    for file in os.listdir(data_folder):\n",
    "        # print(file)\n",
    "        if file.endswith(\".csv\"):\n",
    "            df = pd.read_csv(os.path.join(data_folder, file), sep=\";\", low_memory=False)\n",
    "            dframes.append(df)\n",
    "    return pd.concat(dframes)"
   ]
  },
  {
   "cell_type": "code",
   "execution_count": null,
   "id": "f5e5454a-0590-42dc-9b5a-9a94514bad18",
   "metadata": {},
   "outputs": [],
   "source": [
    "def prepare_data(df, time_column: str):\n",
    "    columns = [\"Melding ID\", \"Radiokallesignal (ERS)\", time_column, \"Havn (kode)\", \"Kvantum type (kode)\", \"Rundvekt\"]\n",
    "    df = df[columns].drop_duplicates()\n",
    "    df[time_column] = pd.to_datetime(df[time_column], dayfirst=True, format=\"mixed\")\n",
    "    return df"
   ]
  },
  {
   "cell_type": "code",
   "execution_count": null,
   "id": "951f7c3c-f2f9-4c05-9cbd-a0a2fb65078e",
   "metadata": {},
   "outputs": [],
   "source": [
    "dep_data = prepare_data(read_and_combine(\"data_test/dep/\"), \"Avgangstidspunkt\")\n",
    "# dep_data = prepare_data(read_and_combine(\"data/dep/\"), \"Avgangstidspunkt\")\n",
    "por_data = prepare_data(read_and_combine(\"data_test/por\"), \"Ankomsttidspunkt\")\n",
    "# por_data = prepare_data(read_and_combine(\"data/por\"), \"Ankomsttidspunkt\")\n",
    "# dep_data = dep_data.sort_values(\"Avgangstidspunkt\")\n",
    "# por_data = por_data.sort_values(\"Ankomsttidspunkt\")"
   ]
  },
  {
   "cell_type": "code",
   "execution_count": null,
   "id": "2cc2c552-703d-4e0d-a505-007a4d8331a0",
   "metadata": {},
   "outputs": [],
   "source": [
    "def prepare_dataframe_for_fishing_trips(df_dep, df_por, vessel_id):\n",
    "    dep = df_dep[df_dep[\"Radiokallesignal (ERS)\"] == vessel_id]\n",
    "    agg_func = {\n",
    "        \"Melding ID\": \"first\",\n",
    "        \"Radiokallesignal (ERS)\": \"first\",\n",
    "        \"Avgangstidspunkt\": \"first\",\n",
    "        \"Kvantum type (kode)\": \"first\",\n",
    "        \"Havn (kode)\": \"first\",\n",
    "        \"Rundvekt\": \"sum\"\n",
    "    }\n",
    "    dep_agg = dep.groupby(\"Melding ID\", as_index=False).aggregate(agg_func)\n",
    "    dep_agg = dep_agg.sort_values(\"Avgangstidspunkt\")#.reset_index()\n",
    "    # dep_agg = dep_agg.drop(\"index\", axis=1)\n",
    "\n",
    "    por = df_por[df_por[\"Radiokallesignal (ERS)\"] == vessel_id]\n",
    "    agg_func = {\n",
    "        \"Melding ID\": \"first\",\n",
    "        \"Radiokallesignal (ERS)\": \"first\",\n",
    "        \"Ankomsttidspunkt\": \"first\",\n",
    "        \"Kvantum type (kode)\": \"first\",\n",
    "        \"Rundvekt\": \"sum\"\n",
    "    }\n",
    "    por_agg = por.groupby([\"Melding ID\", \"Kvantum type (kode)\"], as_index=False).aggregate(agg_func)\n",
    "    por_piv = por_agg.pivot(index=\"Melding ID\", columns=\"Kvantum type (kode)\", values=\"Rundvekt\")\n",
    "    por_final = por_piv.join(por[[\"Melding ID\", \"Radiokallesignal (ERS)\", \"Ankomsttidspunkt\", \"Havn (kode)\"]].set_index(\"Melding ID\"), on=\"Melding ID\").drop_duplicates()\n",
    "    por_final = por_final.sort_values(\"Ankomsttidspunkt\")#.reset_index()\n",
    "\n",
    "    return dep_agg, por_final\n",
    "    "
   ]
  },
  {
   "cell_type": "code",
   "execution_count": null,
   "id": "7bd04070-c072-4680-ae2b-13a9b4ffcdc1",
   "metadata": {},
   "outputs": [],
   "source": [
    "# Keep this\n",
    "def prepare_timestamps(df_dep, df_por):\n",
    "    temp_dep = df_dep.T\n",
    "    temp_por = df_por.T\n",
    "    dep_total = len(temp_dep.columns)\n",
    "    por_total = len(temp_por.columns)\n",
    "    \n",
    "    \n",
    "    time_stamps = pd.concat([df_dep, df_por])\n",
    "    time_stamps[\"Type\"] = np.where(time_stamps[\"Avgangstidspunkt\"].isna(), \"POR\", \"DEP\")\n",
    "    time_stamps[\"Timestamp\"] = np.where(time_stamps[\"Avgangstidspunkt\"].isna(), time_stamps[\"Ankomsttidspunkt\"], time_stamps[\"Avgangstidspunkt\"])\n",
    "    # type(time_stamps.iloc[27][\"Avgangstidspunkt\"])\n",
    "    time_stamps = time_stamps.sort_values(\"Timestamp\").reset_index(drop=True)#.drop(\"index\",axis=1)\n",
    "    # time_stamps\n",
    "    return time_stamps"
   ]
  },
  {
   "cell_type": "code",
   "execution_count": null,
   "id": "f0f150dc-5cb7-4315-8a42-cfcf50aeb3d7",
   "metadata": {},
   "outputs": [],
   "source": [
    "def create_single_trip(start, end):\n",
    "    common_cols = [\"Melding ID\", \"Timestamp\", \"Type\", \"Rundvekt\", \"KG\", \"OB\", \"Kvantum type (kode)\"]\n",
    "    start = start.drop(common_cols + [\"Ankomsttidspunkt\", \"Radiokallesignal (ERS)\"])\n",
    "    start = start.rename({\"Havn (kode)\": \"Havn_start (kode)\"})\n",
    "    end = end.drop(common_cols + [\"Avgangstidspunkt\"])\n",
    "    end = end.rename({\"Havn (kode)\": \"Havn_slutt (kode)\"})\n",
    "    \n",
    "    trip = pd.concat([start, end])\n",
    "    return trip"
   ]
  },
  {
   "cell_type": "code",
   "execution_count": null,
   "id": "07645746-b75d-48e8-b202-c9440b857b05",
   "metadata": {},
   "outputs": [],
   "source": [
    "# Algorithm to define fishing trips for a single vessel\n",
    "def define_fishing_trips(time_stamps):\n",
    "    trips = []\n",
    "    start, end = None, None\n",
    "    for i, data in time_stamps.iterrows():\n",
    "        if start is None and data[\"Type\"] == \"DEP\":\n",
    "            # print(\"Start on index: \", i)\n",
    "            start = data\n",
    "    \n",
    "        if start is not None and data[\"Type\"] == \"POR\" and data[\"KG\"] == data[\"OB\"]:\n",
    "            # print(\"End on index: \", i)\n",
    "            end = data\n",
    "    \n",
    "        if end is not None and data[\"Type\"] == \"DEP\":\n",
    "            trips.append(create_single_trip(start, end))\n",
    "            # print(\"Start on index: \", i)\n",
    "            start = data\n",
    "            end = None\n",
    "            \n",
    "    # Add the remaining trip\n",
    "    if start is not None and end is not None:\n",
    "        trips.append(create_single_trip(start, end))\n",
    "\n",
    "    # for start, end in trips:\n",
    "    #     print(start[\"Timestamp\"], end[\"Timestamp\"])\n",
    "    return pd.concat(trips,axis=1).T\n",
    "\n",
    "# define_fishing_trips(time_stamps)"
   ]
  },
  {
   "cell_type": "code",
   "execution_count": null,
   "id": "37b56b80-156e-4b70-b6c8-915fb4a28333",
   "metadata": {},
   "outputs": [],
   "source": [
    "def define_fishing_trips_all_vessels(dep_data, por_data):\n",
    "    trips_vessel = []\n",
    "    print(\"Total unique vessels: \", len(dep_data[\"Radiokallesignal (ERS)\"].unique()))\n",
    "    for vessel in dep_data[\"Radiokallesignal (ERS)\"].unique():\n",
    "        # print(vessel)\n",
    "        df_dep, df_por = prepare_dataframe_for_fishing_trips(dep_data, por_data, vessel)\n",
    "        \n",
    "        # Skip vessels that does not contain KG or OB in POR data\n",
    "        if \"KG\" not in df_por.columns:\n",
    "            print(\"KG not in vessel: \", vessel) \n",
    "            continue\n",
    "        elif \"OB\" not in df_por.columns:\n",
    "            print(\"OB not in vessel: \", vessel) \n",
    "            continue\n",
    "            \n",
    "        \n",
    "        time_stamps = prepare_timestamps(df_dep, df_por)\n",
    "        trips = define_fishing_trips(time_stamps)\n",
    "        trips_vessel.append(trips)\n",
    "\n",
    "    all_trips = pd.concat(trips_vessel).reset_index(drop=True)\n",
    "    all_trips[\"trip_id\"] = all_trips[\"Radiokallesignal (ERS)\"] + (all_trips[\"Avgangstidspunkt\"].apply(lambda x: x.timestamp()) + all_trips[\"Ankomsttidspunkt\"].apply(lambda x: x.timestamp())).astype(str)\n",
    "    return all_trips"
   ]
  },
  {
   "cell_type": "code",
   "execution_count": null,
   "id": "1b021494-bc94-40f2-a15f-b1ed94c76132",
   "metadata": {},
   "outputs": [],
   "source": [
    "all_trips = define_fishing_trips_all_vessels(dep_data, por_data)"
   ]
  }
 ],
 "metadata": {
  "kernelspec": {
   "display_name": "Python 3 (ipykernel)",
   "language": "python",
   "name": "python3"
  },
  "language_info": {
   "codemirror_mode": {
    "name": "ipython",
    "version": 3
   },
   "file_extension": ".py",
   "mimetype": "text/x-python",
   "name": "python",
   "nbconvert_exporter": "python",
   "pygments_lexer": "ipython3",
   "version": "3.10.12"
  }
 },
 "nbformat": 4,
 "nbformat_minor": 5
}
