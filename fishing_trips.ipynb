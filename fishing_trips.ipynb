{
 "cells": [
  {
   "cell_type": "code",
   "execution_count": null,
   "id": "cf85a4c7-ca3a-49de-994d-60caecc82640",
   "metadata": {},
   "outputs": [],
   "source": [
    "from zipfile import ZipFile\n",
    "import os\n",
    "import pandas as pd\n",
    "pd.options.display.max_columns = 100\n",
    "pd.options.display.max_rows = 100"
   ]
  },
  {
   "cell_type": "code",
   "execution_count": null,
   "id": "ff9a9696-93d3-4a7b-862f-f80bc20b2ab5",
   "metadata": {},
   "outputs": [],
   "source": [
    "def read_and_combine(data_folder):\n",
    "    dframes = []\n",
    "    for file in os.listdir(data_folder):\n",
    "        # print(file)\n",
    "        if file.endswith(\".csv\"):\n",
    "            df = pd.read_csv(os.path.join(data_folder, file), sep=\";\", low_memory=False)\n",
    "            dframes.append(df)\n",
    "    return pd.concat(dframes)"
   ]
  },
  {
   "cell_type": "code",
   "execution_count": null,
   "id": "f5e5454a-0590-42dc-9b5a-9a94514bad18",
   "metadata": {},
   "outputs": [],
   "source": [
    "def prepare_data(df, time_column: str):\n",
    "    columns = [\"Melding ID\", \"Radiokallesignal (ERS)\", time_column, \"Havn (kode)\", \"Kvantum type (kode)\", \"Rundvekt\"]\n",
    "    df = df[columns].drop_duplicates()\n",
    "    df[time_column] = pd.to_datetime(df[time_column], dayfirst=True, format=\"mixed\")\n",
    "    return df"
   ]
  },
  {
   "cell_type": "code",
   "execution_count": null,
   "id": "951f7c3c-f2f9-4c05-9cbd-a0a2fb65078e",
   "metadata": {},
   "outputs": [],
   "source": [
    "dep_data = prepare_data(read_and_combine(\"data_test/dep/\"), \"Avgangstidspunkt\")\n",
    "por_data = prepare_data(read_and_combine(\"data_test/por\"), \"Ankomsttidspunkt\")\n",
    "dep_data = dep_data.sort_values(\"Avgangstidspunkt\")\n",
    "por_data = por_data.sort_values(\"Ankomsttidspunkt\")"
   ]
  },
  {
   "cell_type": "code",
   "execution_count": null,
   "id": "f1db84a4-c5d7-423f-81d2-2d601edb4bbe",
   "metadata": {},
   "outputs": [],
   "source": [
    "dep_data[\"Melding ID\"].value_counts()"
   ]
  },
  {
   "cell_type": "code",
   "execution_count": null,
   "id": "5237a6f6-12a6-4a1c-aad7-40006a4721fe",
   "metadata": {},
   "outputs": [],
   "source": [
    "dep_data[dep_data[\"Melding ID\"] == 111868]"
   ]
  },
  {
   "cell_type": "code",
   "execution_count": null,
   "id": "5a29468a-f520-4b41-bafd-b52083d6b793",
   "metadata": {},
   "outputs": [],
   "source": [
    "dep_data[\"Radiokallesignal (ERS)\"].unique()"
   ]
  },
  {
   "cell_type": "code",
   "execution_count": null,
   "id": "3c5eadca-98bc-44e6-b96c-b5b88686e2c6",
   "metadata": {},
   "outputs": [],
   "source": [
    "dep = dep_data[dep_data[\"Radiokallesignal (ERS)\"] == \"LJRD\"]\n",
    "agg_func = {\n",
    "    \"Melding ID\": \"first\",\n",
    "    \"Radiokallesignal (ERS)\": \"first\",\n",
    "    \"Avgangstidspunkt\": \"first\",\n",
    "    \"Kvantum type (kode)\": \"first\",\n",
    "    \"Havn (kode)\": \"first\",\n",
    "    \"Rundvekt\": \"sum\"\n",
    "}\n",
    "dep_agg = dep.groupby(\"Melding ID\", as_index=False).aggregate(agg_func)\n",
    "dep_agg = dep_agg.sort_values(\"Avgangstidspunkt\").reset_index()\n",
    "dep_agg = dep_agg.drop(\"index\", axis=1)\n",
    "dep_agg"
   ]
  },
  {
   "cell_type": "code",
   "execution_count": null,
   "id": "fccba2df-a8fe-45db-98ae-ac717db8d057",
   "metadata": {},
   "outputs": [],
   "source": [
    "# Group and sum KG and OB my Message ID\n",
    "por = por_data[por_data[\"Radiokallesignal (ERS)\"] == \"LJRD\"]\n",
    "agg_func = {\n",
    "    \"Melding ID\": \"first\",\n",
    "    \"Radiokallesignal (ERS)\": \"first\",\n",
    "    \"Ankomsttidspunkt\": \"first\",\n",
    "    \"Kvantum type (kode)\": \"first\",\n",
    "    \"Rundvekt\": \"sum\"\n",
    "}\n",
    "por_agg = por.groupby([\"Melding ID\", \"Kvantum type (kode)\"], as_index=False).aggregate(agg_func)\n",
    "por_piv = por_agg.pivot(index=\"Melding ID\", columns=\"Kvantum type (kode)\", values=\"Rundvekt\")\n",
    "por_final = por_piv.join(por[[\"Melding ID\", \"Radiokallesignal (ERS)\", \"Ankomsttidspunkt\", \"Havn (kode)\"]].set_index(\"Melding ID\"), on=\"Melding ID\").drop_duplicates()\n",
    "por_final = por_final.sort_values(\"Ankomsttidspunkt\").reset_index()\n",
    "por_final"
   ]
  },
  {
   "cell_type": "code",
   "execution_count": null,
   "id": "7bd04070-c072-4680-ae2b-13a9b4ffcdc1",
   "metadata": {},
   "outputs": [],
   "source": [
    "# Keep this\n",
    "temp_dep = dep_agg.T\n",
    "temp_por = por_final.T\n",
    "dep_total = len(temp_dep.columns)\n",
    "por_total = len(temp_por.columns)\n",
    "\n",
    "\n",
    "i,j = 0,0\n",
    "\n",
    "# FIX BUG: Sometimes the departure for the next trip starts before\n",
    "# the arrival of the previous trip.\n",
    "# Example vessel ids: LIRC,\n",
    "\n",
    "# FIX BUG: Out of index error.\n",
    "# Example vessels: LANV, LAKF\n",
    "\n",
    "# FIX BUG: Departure time is after Arrival\n",
    "# Example vessels: LJRD\n",
    "trips = []\n",
    "while i < dep_total and j < por_total:\n",
    "    # print(i,j)\n",
    "    start = temp_dep.pop(i)\n",
    "    end = temp_por.pop(j)\n",
    "    # print(\"Getting start:\")\n",
    "    while i < dep_total:\n",
    "        # print(i,j)\n",
    "        # print(temp_dep.columns)\n",
    "        if i + 1 == dep_total:\n",
    "            break\n",
    "        else:\n",
    "            new_start = temp_dep.pop(i+1)\n",
    "        if new_start[\"Avgangstidspunkt\"] > end[\"Ankomsttidspunkt\"]:\n",
    "            temp_dep.insert(0, new_start.name, new_start)\n",
    "            # print(\"After Insertion: \",temp_dep.columns)\n",
    "            i += 1\n",
    "            break\n",
    "        elif start[\"Rundvekt\"] != 0:\n",
    "            start = new_start\n",
    "            i += 1\n",
    "        else:\n",
    "            i += 1\n",
    "    \n",
    "    # print(start.name)\n",
    "\n",
    "    # print(\"Getting end:\")\n",
    "    while True:\n",
    "        # print(i,j)\n",
    "        if end[\"OB\"] != end[\"KG\"]:\n",
    "            end = temp_por.pop(j+1)\n",
    "            j += 1\n",
    "        else:\n",
    "            j += 1\n",
    "            break\n",
    "\n",
    "    # print(end.name)\n",
    "    trip = [start, end]\n",
    "    trips.append(trip)\n",
    "\n",
    "\n",
    "for start, end in trips:\n",
    "    print(start.name, end.name, start[\"Avgangstidspunkt\"], end[\"Ankomsttidspunkt\"], start[\"Havn (kode)\"], end[\"Havn (kode)\"])"
   ]
  }
 ],
 "metadata": {
  "kernelspec": {
   "display_name": "Python 3 (ipykernel)",
   "language": "python",
   "name": "python3"
  },
  "language_info": {
   "codemirror_mode": {
    "name": "ipython",
    "version": 3
   },
   "file_extension": ".py",
   "mimetype": "text/x-python",
   "name": "python",
   "nbconvert_exporter": "python",
   "pygments_lexer": "ipython3",
   "version": "3.10.12"
  }
 },
 "nbformat": 4,
 "nbformat_minor": 5
}
